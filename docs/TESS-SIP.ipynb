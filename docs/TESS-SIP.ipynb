{
 "cells": [
  {
   "cell_type": "code",
   "execution_count": null,
   "metadata": {},
   "outputs": [],
   "source": [
    "from tess_sip import SIP"
   ]
  },
  {
   "cell_type": "code",
   "execution_count": null,
   "metadata": {},
   "outputs": [],
   "source": [
    "import lightkurve as lk\n",
    "import numpy as np"
   ]
  },
  {
   "cell_type": "code",
   "execution_count": null,
   "metadata": {},
   "outputs": [],
   "source": [
    "# Download target pixel files\n",
    "# We're using TOI-700\n",
    "tpfs = lk.search_targetpixelfile('TIC 150428135', mission='tess', sector=list(np.arange(14))).download_all()"
   ]
  },
  {
   "cell_type": "code",
   "execution_count": null,
   "metadata": {},
   "outputs": [],
   "source": [
    "# Run SIP\n",
    "r = SIP(tpfs, min_period=10, max_period=80)"
   ]
  },
  {
   "cell_type": "code",
   "execution_count": null,
   "metadata": {},
   "outputs": [],
   "source": [
    "import matplotlib.pyplot as plt\n",
    "# Example plotting\n",
    "fig, axs = plt.subplots(2, figsize=(4, 6))\n",
    "axs[0].plot(r['periods'], r['power'], c='k')\n",
    "axs[0].set(xlabel='Period [d]', ylabel='Power', title='Periodogram')\n",
    "axs[0].axvline(r['period_at_max_power'], color='r', ls='--', label=f\"{r['period_at_max_power']:0.2f} days\")\n",
    "axs[0].legend()\n",
    "r['raw_lc'].plot(ax=axs[1], c='r', label='Raw', alpha=0.5)\n",
    "r['corr_lc'].plot(ax=axs[1], c='k', label='Corrected', lw=0.1)\n",
    "axs[1].set(ylim=(0.9, 1.1))\n",
    "#plt.savefig('demo.png', dpi=200, bbox_inches='tight')"
   ]
  },
  {
   "cell_type": "code",
   "execution_count": null,
   "metadata": {},
   "outputs": [],
   "source": []
  }
 ],
 "metadata": {
  "kernelspec": {
   "display_name": "Python 3",
   "language": "python",
   "name": "python3"
  },
  "language_info": {
   "codemirror_mode": {
    "name": "ipython",
    "version": 3
   },
   "file_extension": ".py",
   "mimetype": "text/x-python",
   "name": "python",
   "nbconvert_exporter": "python",
   "pygments_lexer": "ipython3",
   "version": "3.6.7"
  }
 },
 "nbformat": 4,
 "nbformat_minor": 4
}
